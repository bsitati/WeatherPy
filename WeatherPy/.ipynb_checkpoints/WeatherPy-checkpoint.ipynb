{
 "cells": [
  {
   "cell_type": "markdown",
   "metadata": {},
   "source": [
    "# WeatherPy\n",
    "----\n",
    "\n",
    "#### Note\n",
    "* Instructions have been included for each segment. You do not have to follow them exactly, but they are included to help you think through the steps."
   ]
  },
  {
   "cell_type": "code",
   "execution_count": 26,
   "metadata": {
    "scrolled": true
   },
   "outputs": [],
   "source": [
    "# Dependencies and Setup\n",
    "import matplotlib.pyplot as plt\n",
    "import pandas as pd\n",
    "import numpy as np\n",
    "from scipy import stats\n",
    "import requests\n",
    "import time\n",
    "from scipy.stats import linregress\n",
    "\n",
    "# Import API key\n",
    "from api_keys import weather_api_key\n",
    "\n",
    "# Incorporated citipy to determine city based on latitude and longitude\n",
    "from citipy import citipy\n",
    "\n",
    "# Output File (CSV)\n",
    "output_data_file = \"../output_data/cities.csv\"\n",
    "\n",
    "# Range of latitudes and longitudes\n",
    "lat_range = (-90, 90)\n",
    "lng_range = (-180, 180)"
   ]
  },
  {
   "cell_type": "markdown",
   "metadata": {},
   "source": [
    "## Generate Cities List"
   ]
  },
  {
   "cell_type": "code",
   "execution_count": 14,
   "metadata": {},
   "outputs": [
    {
     "name": "stdout",
     "output_type": "stream",
     "text": [
      "[ 28.59810063  53.73625249  20.34146192 ... -42.75936588 -42.3081882\n",
      "  80.27444399]\n",
      "[ 125.56846867   13.4643828   125.31708868 ...   89.37213444   66.85537957\n",
      " -126.48150735]\n"
     ]
    },
    {
     "data": {
      "text/plain": [
       "614"
      ]
     },
     "execution_count": 14,
     "metadata": {},
     "output_type": "execute_result"
    }
   ],
   "source": [
    "# List for holding lat_lngs and cities\n",
    "lat_lngs = []\n",
    "cities = []\n",
    "\n",
    "# Create a set of random lat and lng combinations\n",
    "lats = np.random.uniform(low=-90.000, high=90.000, size=1500)\n",
    "print(lats)\n",
    "lngs = np.random.uniform(low=-180.000, high=180.000, size=1500)\n",
    "print(lngs)\n",
    "lat_lngs = zip(lats, lngs)\n",
    "\n",
    "# Identify nearest city for each lat, lng combination\n",
    "for lat_lng in lat_lngs:\n",
    "    city = citipy.nearest_city(lat_lng[0], lat_lng[1]).city_name\n",
    "    \n",
    "    # If the city is unique, then add it to a our cities list\n",
    "    if city not in cities:\n",
    "        cities.append(city)\n",
    "\n",
    "# Print the city count to confirm sufficient count\n",
    "len(cities)"
   ]
  },
  {
   "cell_type": "markdown",
   "metadata": {},
   "source": [
    "### Perform API Calls\n",
    "* Perform a weather check on each city using a series of successive API calls.\n",
    "* Include a print log of each city as it'sbeing processed (with the city number and city name).\n"
   ]
  },
  {
   "cell_type": "code",
   "execution_count": 15,
   "metadata": {},
   "outputs": [
    {
     "name": "stdout",
     "output_type": "stream",
     "text": [
      "http://api.openweathermap.org/data/2.5/weather?appid=bb55dd03bd01fd2cfb5d75cdf6efbe30&units=metric&q=yomitan\n"
     ]
    }
   ],
   "source": [
    "# Save config information.\n",
    "url = \"http://api.openweathermap.org/data/2.5/weather?\"\n",
    "units = \"metric\"\n",
    "\n",
    "# Build partial query URL\n",
    "query_url = f\"{url}appid={weather_api_key}&units={units}&q=\"\n",
    "\n",
    "city = cities[0]\n",
    "print(query_url + city)\n",
    "\n",
    "#print(cities)"
   ]
  },
  {
   "cell_type": "code",
   "execution_count": 16,
   "metadata": {},
   "outputs": [
    {
     "name": "stdout",
     "output_type": "stream",
     "text": [
      "*** City not found yomitan!\n",
      "*** City not found saleaula!\n",
      "*** City not found meyungs!\n",
      "*** City not found saryshagan!\n",
      "*** City not found illoqqortoormiut!\n",
      "*** City not found santa eulalia del rio!\n",
      "*** City not found mys shmidta!\n",
      "*** City not found one hundred mile house!\n",
      "*** City not found taolanaro!\n",
      "*** City not found gorkovskoye!\n",
      "*** City not found samusu!\n",
      "*** City not found yanan!\n",
      "*** City not found vaitupu!\n",
      "*** City not found khonuu!\n",
      "*** City not found bargal!\n",
      "*** City not found nizhneyansk!\n",
      "*** City not found tsihombe!\n",
      "*** City not found toliary!\n",
      "*** City not found tambul!\n",
      "*** City not found sedelnikovo!\n",
      "*** City not found belushya guba!\n",
      "*** City not found artyk!\n",
      "*** City not found grand river south east!\n",
      "*** City not found bolungarvik!\n",
      "*** City not found tidore!\n",
      "*** City not found gorno-chuyskiy!\n",
      "*** City not found jiddah!\n",
      "*** City not found attawapiskat!\n",
      "*** City not found umzimvubu!\n",
      "*** City not found karaul!\n",
      "*** City not found falealupo!\n",
      "*** City not found tumannyy!\n",
      "*** City not found sataua!\n",
      "*** City not found tabiauea!\n",
      "*** City not found barentsburg!\n",
      "*** City not found balimo!\n",
      "*** City not found grand centre!\n",
      "*** City not found inderborskiy!\n",
      "*** City not found berikulskiy!\n",
      "*** City not found temaraia!\n",
      "*** City not found burica!\n",
      "*** City not found kuche!\n",
      "*** City not found bac can!\n",
      "*** City not found sentyabrskiy!\n",
      "*** City not found safwah!\n",
      "*** City not found amderma!\n",
      "*** City not found yirol!\n",
      "*** City not found dolbeau!\n",
      "*** City not found guelengdeng!\n",
      "*** City not found metehara!\n",
      "*** City not found buariki!\n",
      "*** City not found borujan!\n",
      "*** City not found chagda!\n",
      "*** City not found oinoussai!\n"
     ]
    }
   ],
   "source": [
    "# Loop through the list of cities and perform a request for data on each\n",
    "lat = []\n",
    "lng = []\n",
    "temp= []\n",
    "humid = []\n",
    "cloud = []\n",
    "wind = []\n",
    "mycity= []\n",
    "\n",
    "for city in cities:\n",
    "    response = requests.get(query_url + city).json()\n",
    "    (response).keys\n",
    "    try:\n",
    "        mycity.append(response['name'])\n",
    "        lat.append(response['coord']['lat'])\n",
    "        lng.append(response['coord']['lon'])\n",
    "        temp.append(response['main']['temp'])\n",
    "        humid.append(response['main']['humidity'])\n",
    "        cloud.append(response['clouds']['all'])\n",
    "        wind.append(response['wind']['speed'])\n",
    "    except KeyError as e:\n",
    "        print(f\"*** City not found {city}!\")\n",
    "        \n",
    "\n",
    "# print(f\"The latitude information received is: {lat}\")\n",
    "# print(f\"The temperature information received is: {temp}\")\n"
   ]
  },
  {
   "cell_type": "markdown",
   "metadata": {},
   "source": [
    "### Convert Raw Data to DataFrame\n",
    "* Export the city data into a .csv.\n",
    "* Display the DataFrame"
   ]
  },
  {
   "cell_type": "code",
   "execution_count": 17,
   "metadata": {},
   "outputs": [
    {
     "data": {
      "text/html": [
       "<div>\n",
       "<style scoped>\n",
       "    .dataframe tbody tr th:only-of-type {\n",
       "        vertical-align: middle;\n",
       "    }\n",
       "\n",
       "    .dataframe tbody tr th {\n",
       "        vertical-align: top;\n",
       "    }\n",
       "\n",
       "    .dataframe thead th {\n",
       "        text-align: right;\n",
       "    }\n",
       "</style>\n",
       "<table border=\"1\" class=\"dataframe\">\n",
       "  <thead>\n",
       "    <tr style=\"text-align: right;\">\n",
       "      <th></th>\n",
       "      <th>city</th>\n",
       "      <th>lat</th>\n",
       "      <th>lng</th>\n",
       "      <th>temp</th>\n",
       "      <th>humidity</th>\n",
       "      <th>cloudy</th>\n",
       "      <th>windy</th>\n",
       "    </tr>\n",
       "  </thead>\n",
       "  <tbody>\n",
       "    <tr>\n",
       "      <th>0</th>\n",
       "      <td>Neubrandenburg</td>\n",
       "      <td>53.57</td>\n",
       "      <td>13.27</td>\n",
       "      <td>5.59</td>\n",
       "      <td>78</td>\n",
       "      <td>100</td>\n",
       "      <td>2.68</td>\n",
       "    </tr>\n",
       "    <tr>\n",
       "      <th>1</th>\n",
       "      <td>Basco</td>\n",
       "      <td>20.45</td>\n",
       "      <td>121.97</td>\n",
       "      <td>22.89</td>\n",
       "      <td>81</td>\n",
       "      <td>75</td>\n",
       "      <td>3.97</td>\n",
       "    </tr>\n",
       "    <tr>\n",
       "      <th>2</th>\n",
       "      <td>Santa Catalina</td>\n",
       "      <td>9.33</td>\n",
       "      <td>122.86</td>\n",
       "      <td>31.66</td>\n",
       "      <td>50</td>\n",
       "      <td>0</td>\n",
       "      <td>2.46</td>\n",
       "    </tr>\n",
       "    <tr>\n",
       "      <th>3</th>\n",
       "      <td>Vaini</td>\n",
       "      <td>-21.20</td>\n",
       "      <td>-175.20</td>\n",
       "      <td>26.00</td>\n",
       "      <td>78</td>\n",
       "      <td>40</td>\n",
       "      <td>2.10</td>\n",
       "    </tr>\n",
       "    <tr>\n",
       "      <th>4</th>\n",
       "      <td>Dikson</td>\n",
       "      <td>73.51</td>\n",
       "      <td>80.55</td>\n",
       "      <td>-11.06</td>\n",
       "      <td>91</td>\n",
       "      <td>40</td>\n",
       "      <td>3.99</td>\n",
       "    </tr>\n",
       "    <tr>\n",
       "      <th>...</th>\n",
       "      <td>...</td>\n",
       "      <td>...</td>\n",
       "      <td>...</td>\n",
       "      <td>...</td>\n",
       "      <td>...</td>\n",
       "      <td>...</td>\n",
       "      <td>...</td>\n",
       "    </tr>\n",
       "    <tr>\n",
       "      <th>555</th>\n",
       "      <td>São Félix do Xingu</td>\n",
       "      <td>-6.64</td>\n",
       "      <td>-51.99</td>\n",
       "      <td>20.65</td>\n",
       "      <td>92</td>\n",
       "      <td>100</td>\n",
       "      <td>0.86</td>\n",
       "    </tr>\n",
       "    <tr>\n",
       "      <th>556</th>\n",
       "      <td>Bereda</td>\n",
       "      <td>43.27</td>\n",
       "      <td>-7.54</td>\n",
       "      <td>10.53</td>\n",
       "      <td>87</td>\n",
       "      <td>98</td>\n",
       "      <td>2.60</td>\n",
       "    </tr>\n",
       "    <tr>\n",
       "      <th>557</th>\n",
       "      <td>Bambous Virieux</td>\n",
       "      <td>-20.34</td>\n",
       "      <td>57.76</td>\n",
       "      <td>26.32</td>\n",
       "      <td>78</td>\n",
       "      <td>75</td>\n",
       "      <td>7.70</td>\n",
       "    </tr>\n",
       "    <tr>\n",
       "      <th>558</th>\n",
       "      <td>Rio Grande</td>\n",
       "      <td>-32.03</td>\n",
       "      <td>-52.10</td>\n",
       "      <td>14.44</td>\n",
       "      <td>70</td>\n",
       "      <td>60</td>\n",
       "      <td>1.79</td>\n",
       "    </tr>\n",
       "    <tr>\n",
       "      <th>559</th>\n",
       "      <td>Wuda</td>\n",
       "      <td>39.50</td>\n",
       "      <td>106.71</td>\n",
       "      <td>11.62</td>\n",
       "      <td>32</td>\n",
       "      <td>100</td>\n",
       "      <td>2.42</td>\n",
       "    </tr>\n",
       "  </tbody>\n",
       "</table>\n",
       "<p>560 rows × 7 columns</p>\n",
       "</div>"
      ],
      "text/plain": [
       "                   city    lat     lng   temp  humidity  cloudy  windy\n",
       "0        Neubrandenburg  53.57   13.27   5.59        78     100   2.68\n",
       "1                 Basco  20.45  121.97  22.89        81      75   3.97\n",
       "2        Santa Catalina   9.33  122.86  31.66        50       0   2.46\n",
       "3                 Vaini -21.20 -175.20  26.00        78      40   2.10\n",
       "4                Dikson  73.51   80.55 -11.06        91      40   3.99\n",
       "..                  ...    ...     ...    ...       ...     ...    ...\n",
       "555  São Félix do Xingu  -6.64  -51.99  20.65        92     100   0.86\n",
       "556              Bereda  43.27   -7.54  10.53        87      98   2.60\n",
       "557     Bambous Virieux -20.34   57.76  26.32        78      75   7.70\n",
       "558          Rio Grande -32.03  -52.10  14.44        70      60   1.79\n",
       "559                Wuda  39.50  106.71  11.62        32     100   2.42\n",
       "\n",
       "[560 rows x 7 columns]"
      ]
     },
     "execution_count": 17,
     "metadata": {},
     "output_type": "execute_result"
    }
   ],
   "source": [
    "city_weather_dict = {\n",
    "    \"city\": mycity,\n",
    "    \"lat\": lat,\n",
    "    \"lng\": lng,\n",
    "    \"temp\": temp,\n",
    "    \"humidity\": humid,\n",
    "    \"cloudy\": cloud,\n",
    "    \"windy\": wind   \n",
    "}\n",
    "city_weather_data = pd.DataFrame(city_weather_dict)\n",
    "city_weather_data"
   ]
  },
  {
   "cell_type": "code",
   "execution_count": 18,
   "metadata": {},
   "outputs": [],
   "source": [
    "# len(lat)\n",
    "# len(lng)\n",
    "# len(temp)\n",
    "# len(humid)\n",
    "# len(cloud)\n",
    "# len(wind)\n",
    "# len(mycity)"
   ]
  },
  {
   "cell_type": "markdown",
   "metadata": {},
   "source": [
    "### Plotting the Data\n",
    "* Use proper labeling of the plots using plot titles (including date of analysis) and axes labels.\n",
    "* Save the plotted figures as .pngs."
   ]
  },
  {
   "cell_type": "markdown",
   "metadata": {},
   "source": [
    "#### Latitude vs. Temperature Plot"
   ]
  },
  {
   "cell_type": "code",
   "execution_count": 19,
   "metadata": {
    "scrolled": true
   },
   "outputs": [
    {
     "data": {
      "image/png": "[encoded data removed]",
      "text/plain": [
       "<Figure size 432x288 with 1 Axes>"
      ]
     },
     "metadata": {
      "needs_background": "light"
     },
     "output_type": "display_data"
    }
   ],
   "source": [
    "# Temperature (F) vs. Latitude\n",
    "x_values = city_weather_data['temp']\n",
    "y_values = city_weather_data['lat']\n",
    "plt.scatter(x_values,y_values)\n",
    "plt.xlabel('Latitude')\n",
    "plt.ylabel('Temperature')\n",
    "plt.show()"
   ]
  },
  {
   "cell_type": "markdown",
   "metadata": {},
   "source": [
    "#### Latitude vs. Humidity Plot"
   ]
  },
  {
   "cell_type": "code",
   "execution_count": 20,
   "metadata": {},
   "outputs": [
    {
     "data": {
      "image/png": "[encoded data removed]",
      "text/plain": [
       "<Figure size 432x288 with 1 Axes>"
      ]
     },
     "metadata": {
      "needs_background": "light"
     },
     "output_type": "display_data"
    }
   ],
   "source": [
    "# Humidity (%) vs. Latitude\n",
    "x_values = city_weather_data['lat']\n",
    "y_values = city_weather_data['humidity']\n",
    "plt.scatter(x_values,y_values)\n",
    "plt.xlabel('Latitude')\n",
    "plt.ylabel('Humidity')\n",
    "plt.show()"
   ]
  },
  {
   "cell_type": "markdown",
   "metadata": {},
   "source": [
    "#### Latitude vs. Cloudiness Plot"
   ]
  },
  {
   "cell_type": "code",
   "execution_count": 21,
   "metadata": {},
   "outputs": [
    {
     "data": {
      "image/png": "[encoded data removed]",
      "text/plain": [
       "<Figure size 432x288 with 1 Axes>"
      ]
     },
     "metadata": {
      "needs_background": "light"
     },
     "output_type": "display_data"
    }
   ],
   "source": [
    "# Cloudiness (%) vs. Latitude\n",
    "x_values = city_weather_data['lat']\n",
    "y_values = city_weather_data['cloudy']\n",
    "plt.scatter(x_values,y_values)\n",
    "plt.xlabel('Latitude')\n",
    "plt.ylabel('Cloudiness')\n",
    "plt.show()"
   ]
  },
  {
   "cell_type": "markdown",
   "metadata": {},
   "source": [
    "#### Latitude vs. Wind Speed Plot"
   ]
  },
  {
   "cell_type": "code",
   "execution_count": 22,
   "metadata": {},
   "outputs": [
    {
     "data": {
      "image/png": "[encoded data removed]",
      "text/plain": [
       "<Figure size 432x288 with 1 Axes>"
      ]
     },
     "metadata": {
      "needs_background": "light"
     },
     "output_type": "display_data"
    }
   ],
   "source": [
    "# Wind Speed (mph) vs. Latitude\n",
    "x_values = city_weather_data['lat']\n",
    "y_values = city_weather_data['windy']\n",
    "plt.scatter(x_values,y_values)\n",
    "plt.xlabel('Latitude')\n",
    "plt.ylabel('Windiness')\n",
    "plt.show()"
   ]
  },
  {
   "cell_type": "code",
   "execution_count": null,
   "metadata": {},
   "outputs": [],
   "source": []
  },
  {
   "cell_type": "markdown",
   "metadata": {},
   "source": [
    "## Linear Regression"
   ]
  },
  {
   "cell_type": "code",
   "execution_count": 34,
   "metadata": {},
   "outputs": [
    {
     "name": "stdout",
     "output_type": "stream",
     "text": [
      "y = 0.01x +3.53\n",
      "0      3.874145\n",
      "1      3.663260\n",
      "2      3.592455\n",
      "3      3.398061\n",
      "4      4.001109\n",
      "         ...   \n",
      "555    3.490769\n",
      "556    3.808561\n",
      "557    3.403537\n",
      "558    3.329104\n",
      "559    3.784557\n",
      "Name: lat, Length: 560, dtype: float64\n"
     ]
    }
   ],
   "source": [
    "# OPTIONAL: Create a function to create Linear Regression plots\n",
    "# Create line equation string\n",
    "\n",
    "line_eq = \"y = \" + str(round(slope,2)) + \"x +\" + str(round(intercept,2))\n",
    "print(line_eq)\n",
    "\n",
    "(slope, intercept, rvalue, pvalue, stderr) = stats.linregress(x_values, y_values)\n",
    "\n",
    "# Get regression values\n",
    "regress_values = x_values * slope + intercept\n",
    "print(regress_values)"
   ]
  },
  {
   "cell_type": "code",
   "execution_count": 35,
   "metadata": {},
   "outputs": [
    {
     "data": {
      "text/html": [
       "<div>\n",
       "<style scoped>\n",
       "    .dataframe tbody tr th:only-of-type {\n",
       "        vertical-align: middle;\n",
       "    }\n",
       "\n",
       "    .dataframe tbody tr th {\n",
       "        vertical-align: top;\n",
       "    }\n",
       "\n",
       "    .dataframe thead th {\n",
       "        text-align: right;\n",
       "    }\n",
       "</style>\n",
       "<table border=\"1\" class=\"dataframe\">\n",
       "  <thead>\n",
       "    <tr style=\"text-align: right;\">\n",
       "      <th></th>\n",
       "      <th>city</th>\n",
       "      <th>lat</th>\n",
       "      <th>lng</th>\n",
       "      <th>temp</th>\n",
       "      <th>humidity</th>\n",
       "      <th>cloudy</th>\n",
       "      <th>windy</th>\n",
       "    </tr>\n",
       "  </thead>\n",
       "  <tbody>\n",
       "    <tr>\n",
       "      <th>0</th>\n",
       "      <td>Neubrandenburg</td>\n",
       "      <td>53.57</td>\n",
       "      <td>13.27</td>\n",
       "      <td>5.59</td>\n",
       "      <td>78</td>\n",
       "      <td>100</td>\n",
       "      <td>2.68</td>\n",
       "    </tr>\n",
       "    <tr>\n",
       "      <th>1</th>\n",
       "      <td>Basco</td>\n",
       "      <td>20.45</td>\n",
       "      <td>121.97</td>\n",
       "      <td>22.89</td>\n",
       "      <td>81</td>\n",
       "      <td>75</td>\n",
       "      <td>3.97</td>\n",
       "    </tr>\n",
       "    <tr>\n",
       "      <th>2</th>\n",
       "      <td>Santa Catalina</td>\n",
       "      <td>9.33</td>\n",
       "      <td>122.86</td>\n",
       "      <td>31.66</td>\n",
       "      <td>50</td>\n",
       "      <td>0</td>\n",
       "      <td>2.46</td>\n",
       "    </tr>\n",
       "    <tr>\n",
       "      <th>4</th>\n",
       "      <td>Dikson</td>\n",
       "      <td>73.51</td>\n",
       "      <td>80.55</td>\n",
       "      <td>-11.06</td>\n",
       "      <td>91</td>\n",
       "      <td>40</td>\n",
       "      <td>3.99</td>\n",
       "    </tr>\n",
       "    <tr>\n",
       "      <th>8</th>\n",
       "      <td>El Copé</td>\n",
       "      <td>8.62</td>\n",
       "      <td>-80.60</td>\n",
       "      <td>23.33</td>\n",
       "      <td>78</td>\n",
       "      <td>15</td>\n",
       "      <td>0.94</td>\n",
       "    </tr>\n",
       "    <tr>\n",
       "      <th>...</th>\n",
       "      <td>...</td>\n",
       "      <td>...</td>\n",
       "      <td>...</td>\n",
       "      <td>...</td>\n",
       "      <td>...</td>\n",
       "      <td>...</td>\n",
       "      <td>...</td>\n",
       "    </tr>\n",
       "    <tr>\n",
       "      <th>550</th>\n",
       "      <td>Buraidah</td>\n",
       "      <td>26.33</td>\n",
       "      <td>43.98</td>\n",
       "      <td>15.00</td>\n",
       "      <td>82</td>\n",
       "      <td>0</td>\n",
       "      <td>3.60</td>\n",
       "    </tr>\n",
       "    <tr>\n",
       "      <th>552</th>\n",
       "      <td>Whitehorse</td>\n",
       "      <td>60.72</td>\n",
       "      <td>-135.05</td>\n",
       "      <td>2.62</td>\n",
       "      <td>59</td>\n",
       "      <td>40</td>\n",
       "      <td>2.10</td>\n",
       "    </tr>\n",
       "    <tr>\n",
       "      <th>554</th>\n",
       "      <td>Yamada</td>\n",
       "      <td>39.47</td>\n",
       "      <td>141.95</td>\n",
       "      <td>13.79</td>\n",
       "      <td>53</td>\n",
       "      <td>21</td>\n",
       "      <td>7.54</td>\n",
       "    </tr>\n",
       "    <tr>\n",
       "      <th>556</th>\n",
       "      <td>Bereda</td>\n",
       "      <td>43.27</td>\n",
       "      <td>-7.54</td>\n",
       "      <td>10.53</td>\n",
       "      <td>87</td>\n",
       "      <td>98</td>\n",
       "      <td>2.60</td>\n",
       "    </tr>\n",
       "    <tr>\n",
       "      <th>559</th>\n",
       "      <td>Wuda</td>\n",
       "      <td>39.50</td>\n",
       "      <td>106.71</td>\n",
       "      <td>11.62</td>\n",
       "      <td>32</td>\n",
       "      <td>100</td>\n",
       "      <td>2.42</td>\n",
       "    </tr>\n",
       "  </tbody>\n",
       "</table>\n",
       "<p>379 rows × 7 columns</p>\n",
       "</div>"
      ],
      "text/plain": [
       "               city    lat     lng   temp  humidity  cloudy  windy\n",
       "0    Neubrandenburg  53.57   13.27   5.59        78     100   2.68\n",
       "1             Basco  20.45  121.97  22.89        81      75   3.97\n",
       "2    Santa Catalina   9.33  122.86  31.66        50       0   2.46\n",
       "4            Dikson  73.51   80.55 -11.06        91      40   3.99\n",
       "8           El Copé   8.62  -80.60  23.33        78      15   0.94\n",
       "..              ...    ...     ...    ...       ...     ...    ...\n",
       "550        Buraidah  26.33   43.98  15.00        82       0   3.60\n",
       "552      Whitehorse  60.72 -135.05   2.62        59      40   2.10\n",
       "554          Yamada  39.47  141.95  13.79        53      21   7.54\n",
       "556          Bereda  43.27   -7.54  10.53        87      98   2.60\n",
       "559            Wuda  39.50  106.71  11.62        32     100   2.42\n",
       "\n",
       "[379 rows x 7 columns]"
      ]
     },
     "execution_count": 35,
     "metadata": {},
     "output_type": "execute_result"
    }
   ],
   "source": [
    "# Create Northern and Southern Hemisphere DataFrames\n",
    "northern_hemisph = city_weather_data.loc[city_weather_data['lat'] > 0]\n",
    "northern_hemisph\n",
    "\n",
    "southern_hemisph = city_weather_data.loc[city_weather_data['lat'] > 0]\n",
    "southern_hemisph"
   ]
  },
  {
   "cell_type": "markdown",
   "metadata": {},
   "source": [
    "####  Northern Hemisphere - Max Temp vs. Latitude Linear Regression"
   ]
  },
  {
   "cell_type": "code",
   "execution_count": 36,
   "metadata": {},
   "outputs": [
    {
     "name": "stdout",
     "output_type": "stream",
     "text": [
      "The r-squared is: 0.7389551175429878\n"
     ]
    },
    {
     "data": {
      "image/png": "[encoded data removed]",
      "text/plain": [
       "<Figure size 432x288 with 1 Axes>"
      ]
     },
     "metadata": {
      "needs_background": "light"
     },
     "output_type": "display_data"
    }
   ],
   "source": [
    "x_n_temp_lat = northern_hemisph['temp']\n",
    "y_n_temp_lat = northern_hemisph['lat']\n",
    "\n",
    "(slope, intercept, rvalue, pvalue, stderr) = stats.linregress(x_n_temp_lat, y_n_temp_lat)\n",
    "\n",
    "# Get regression values\n",
    "regress_values = x_n_temp_lat * slope + intercept\n",
    "#print(regress_values)# Create Plot\n",
    "\n",
    "plt.scatter(x_n_temp_lat,y_n_temp_lat)\n",
    "plt.plot(x_n_temp_lat,regress_values,\"r-\")\n",
    "\n",
    "# Label plot and annotate the line equation\n",
    "plt.xlabel('Latitude')\n",
    "plt.ylabel('Max Temperature')\n",
    "plt.annotate(line_eq,(20,15),fontsize=15,color=\"red\")\n",
    "\n",
    "# Print r square value\n",
    "print(f\"The r-squared is: {rvalue**2}\")\n",
    "\n",
    "# Show plot\n",
    "plt.show()\n",
    "\n"
   ]
  },
  {
   "cell_type": "markdown",
   "metadata": {},
   "source": [
    "####  Southern Hemisphere - Max Temp vs. Latitude Linear Regression"
   ]
  },
  {
   "cell_type": "code",
   "execution_count": 39,
   "metadata": {},
   "outputs": [
    {
     "name": "stdout",
     "output_type": "stream",
     "text": [
      "The r-squared is: 0.7389551175429878\n"
     ]
    },
    {
     "data": {
      "image/png": "[encoded data removed]",
      "text/plain": [
       "<Figure size 432x288 with 1 Axes>"
      ]
     },
     "metadata": {
      "needs_background": "light"
     },
     "output_type": "display_data"
    }
   ],
   "source": [
    "x_s_temp_lat = southern_hemisph['temp']\n",
    "y_s_temp_lat = southern_hemisph['lat']\n",
    "\n",
    "(slope, intercept, rvalue, pvalue, stderr) = stats.linregress(x_s_temp_lat, y_s_temp_lat)\n",
    "\n",
    "# Get regression values\n",
    "regress_values = x_s_temp_lat * slope + intercept\n",
    "#print(regress_values)# Create Plot\n",
    "\n",
    "plt.scatter(x_s_temp_lat,y_n_temp_lat)\n",
    "plt.plot(x_s_temp_lat,regress_values,\"r-\")\n",
    "\n",
    "# Label plot and annotate the line equation\n",
    "plt.xlabel('Latitude')\n",
    "plt.ylabel('Max Temperature')\n",
    "plt.annotate(line_eq,(20,15),fontsize=15,color=\"red\")\n",
    "\n",
    "# Print r square value\n",
    "print(f\"The r-squared is: {rvalue**2}\")\n",
    "\n",
    "# Show plot\n",
    "plt.show()"
   ]
  },
  {
   "cell_type": "markdown",
   "metadata": {},
   "source": [
    "####  Northern Hemisphere - Humidity (%) vs. Latitude Linear Regression"
   ]
  },
  {
   "cell_type": "code",
   "execution_count": null,
   "metadata": {},
   "outputs": [],
   "source": [
    "#regression part\n",
    "# slope, intercept, r_value, p_value, std_err = stats.linregress(x,y)\n",
    "\n",
    "# line = slope*x+intercept\n",
    "# plt.plot(x, line, 'r', label='y={:.2f}x+{:.2f}'.format(slope,intercept))\n",
    "# #end\n",
    "\n",
    "# plt.scatter(x,y, color=\"k\", s=3.5)\n",
    "# plt.legend(fontsize=9)\n",
    "\n",
    "# plt.show()"
   ]
  },
  {
   "cell_type": "markdown",
   "metadata": {},
   "source": [
    "####  Southern Hemisphere - Humidity (%) vs. Latitude Linear Regression"
   ]
  },
  {
   "cell_type": "code",
   "execution_count": null,
   "metadata": {},
   "outputs": [],
   "source": []
  },
  {
   "cell_type": "markdown",
   "metadata": {},
   "source": [
    "####  Northern Hemisphere - Cloudiness (%) vs. Latitude Linear Regression"
   ]
  },
  {
   "cell_type": "code",
   "execution_count": null,
   "metadata": {},
   "outputs": [],
   "source": []
  },
  {
   "cell_type": "markdown",
   "metadata": {},
   "source": [
    "####  Southern Hemisphere - Cloudiness (%) vs. Latitude Linear Regression"
   ]
  },
  {
   "cell_type": "code",
   "execution_count": null,
   "metadata": {},
   "outputs": [],
   "source": []
  },
  {
   "cell_type": "markdown",
   "metadata": {},
   "source": [
    "####  Northern Hemisphere - Wind Speed (mph) vs. Latitude Linear Regression"
   ]
  },
  {
   "cell_type": "code",
   "execution_count": null,
   "metadata": {},
   "outputs": [],
   "source": []
  },
  {
   "cell_type": "markdown",
   "metadata": {},
   "source": [
    "####  Southern Hemisphere - Wind Speed (mph) vs. Latitude Linear Regression"
   ]
  },
  {
   "cell_type": "code",
   "execution_count": null,
   "metadata": {},
   "outputs": [],
   "source": []
  },
  {
   "cell_type": "code",
   "execution_count": null,
   "metadata": {},
   "outputs": [],
   "source": []
  }
 ],
 "metadata": {
  "anaconda-cloud": {},
  "kernel_info": {
   "name": "python3"
  },
  "kernelspec": {
   "display_name": "Python 3",
   "language": "python",
   "name": "python3"
  },
  "language_info": {
   "codemirror_mode": {
    "name": "ipython",
    "version": 3
   },
   "file_extension": ".py",
   "mimetype": "text/x-python",
   "name": "python",
   "nbconvert_exporter": "python",
   "pygments_lexer": "ipython3",
   "version": "3.6.10"
  },
  "latex_envs": {
   "LaTeX_envs_menu_present": true,
   "autoclose": false,
   "autocomplete": true,
   "bibliofile": "biblio.bib",
   "cite_by": "apalike",
   "current_citInitial": 1,
   "eqLabelWithNumbers": true,
   "eqNumInitial": 1,
   "hotkeys": {
    "equation": "Ctrl-E",
    "itemize": "Ctrl-I"
   },
   "labels_anchors": false,
   "latex_user_defs": false,
   "report_style_numbering": false,
   "user_envs_cfg": false
  },
  "nteract": {
   "version": "0.12.3"
  }
 },
 "nbformat": 4,
 "nbformat_minor": 4
}
